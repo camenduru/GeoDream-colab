{
  "cells": [
    {
      "cell_type": "markdown",
      "metadata": {
        "id": "view-in-github"
      },
      "source": [
        "[![Open In Colab](https://colab.research.google.com/assets/colab-badge.svg)](https://colab.research.google.com/github/camenduru/GeoDream-colab/blob/main/GeoDream_colab.ipynb)"
      ]
    },
    {
      "cell_type": "code",
      "execution_count": null,
      "metadata": {
        "id": "VjYy0F2gZIPR"
      },
      "outputs": [],
      "source": [
        "%cd /content\n",
        "!git clone -b dev https://github.com/camenduru/GeoDream\n",
        "%cd /content/GeoDream\n",
        "\n",
        "!pip install -q torch==2.0.1+cu118 torchvision==0.15.2+cu118 torchaudio==2.0.2+cu118 torchtext==0.15.2 torchdata==0.6.1 --extra-index-url https://download.pytorch.org/whl/cu118\n",
        "!pip install -q ninja lightning==2.0.0 omegaconf jaxtyping controlnet_aux diffusers==0.20.2 trimesh wandb\n",
        "!pip install -q https://huggingface.co/camenduru/CoDeF/resolve/main/tinycudann-1.7-cp310-cp310-linux_x86_64.whl\n",
        "# !python -c \"$(curl -fsSL https://raw.githubusercontent.com/mit-han-lab/torchsparse/master/install.py)\"\n",
        "!pip install -q https://github.com/camenduru/One-2-3-45/releases/download/colab/torchsparse-1.4.0-cp310-cp310-linux_x86_64.whl\n",
        "!pip install -q https://github.com/camenduru/One-2-3-45/releases/download/colab/inplace_abn-1.1.1.dev9+ge89e592-cp310-cp310-linux_x86_64.whl\n",
        "!pip install -q git+https://github.com/ashawkey/envlight\n",
        "!pip install -q git+https://github.com/NVlabs/nvdiffrast\n",
        "!pip install -q nerfacc==0.5.2 -f https://nerfacc-bucket.s3.us-west-2.amazonaws.com/whl/torch-2.0.0_cu118.html\n",
        "# !pip install -q git+https://github.com/KAIR-BAIR/nerfacc.git@v0.5.2\n",
        "!pip install -q rembg open-clip-torch accelerate pyhocon PyMCubes icecream kornia xformers==0.0.20 libigl\n",
        "\n",
        "!apt -y install -qq aria2\n",
        "# !aria2c --console-log-level=error -c -x 16 -s 16 -k 1M https://huggingface.co/camenduru/One-2-3-45/resolve/main/SparseNeuS_demo_v1/exp/lod0/checkpoints/ckpt_215000.pth -d /content/GeoDream/mv-diffusion/One-2-3-45/reconstruction/exp/lod0/checkpoints -o ckpt_215000.pth\n",
        "!aria2c --console-log-level=error -c -x 16 -s 16 -k 1M https://huggingface.co/ckpt/MVDream/resolve/main/sd-v2.1-base-4view.pt -d /content/GeoDream/mv-diffusion/MVDream/weight -o sd-v2.1-base-4view.pt\n",
        "!aria2c --console-log-level=error -c -x 16 -s 16 -k 1M https://huggingface.co/ckpt/zero123plus-v1.1/raw/main/inference.py -d /content/GeoDream/mv-diffusion/zero123plus -o inference.py"
      ]
    },
    {
      "cell_type": "code",
      "execution_count": null,
      "metadata": {},
      "outputs": [],
      "source": [
        "%cd /content/GeoDream/mv-diffusion/MVDream\n",
        "!python t2i_single.py --text \"An astronaut riding a horse\" --num_frames 4 --camera_elev 15 --camera_azim 180 --camera_azim_span 360\n",
        "!cp -r remove_bg ../zero123plus/img/remove_bg\n",
        "%cd /content/GeoDream/mv-diffusion/zero123plus/examples\n",
        "!python img_to_6mv.py\n",
        "\n",
        "%cd /content/GeoDream/mv-diffusion/zero123plus/rank_again\n",
        "!python rank_and_resize.py --project_name 'an_astronaut_riding_a_horse'\n",
        "\n",
        "%cd /content/GeoDream/mv-diffusion/zero123plus/result\n",
        "!cp -r /content/GeoDream/mv-diffusion/zero123plus/result/an_astronaut_riding_a_horse /content/GeoDream/mv-diffusion/One-2-3-45/exp\n",
        "%cd /content/GeoDream/mv-diffusion/One-2-3-45/exp\n",
        "!cp /content/GeoDream/mv-diffusion/One-2-3-45/exp/pose.json /content/GeoDream/mv-diffusion/One-2-3-45/exp/an_astronaut_riding_a_horse/pose.json"
      ]
    },
    {
      "cell_type": "code",
      "execution_count": null,
      "metadata": {},
      "outputs": [],
      "source": [
        "%cd /content/GeoDream/mv-diffusion/One-2-3-45/reconstruction\n",
        "\n",
        "!CUDA_VISIBLE_DEVICES=0 python exp_runner_generic_blender_val.py \\\n",
        "                        --specific_dataset_name exp/an_astronaut_riding_a_horse \\\n",
        "                        --mode export_mesh \\\n",
        "                        --conf confs/one2345_lod0_val_demo.conf \\\n",
        "                        --resolution 256"
      ]
    },
    {
      "cell_type": "code",
      "execution_count": null,
      "metadata": {},
      "outputs": [],
      "source": [
        "#Stage 1 (NeuS)\n",
        "%cd /content/GeoDream\n",
        "!python launch.py --config configs/geodream-neus.yaml \\\n",
        "                  --train --gpu 0 system.prompt_processor.prompt=\"an astronaut riding a horse\" \\\n",
        "                  system.geometry.init_volume_path=\"/content/GeoDream/mv-diffusion/One-2-3-45/exp/an_astronaut_riding_a_horse/con_volume_lod_150.pth\"\n",
        "                  # data.width=64 data.height=64"
      ]
    },
    {
      "cell_type": "code",
      "execution_count": null,
      "metadata": {},
      "outputs": [],
      "source": [
        "#Stage 2 (DMTet Geometry Refinement)\n",
        "!python launch.py --config configs/geodream-dmtet-geometry.yaml --train \\\n",
        "                  system.geometry_convert_from=path/to/stage1/trial/dir/ckpts/last.ckpt --gpu 0 \\\n",
        "                  system.prompt_processor.prompt=\"an astronaut riding a horse\" \\\n",
        "                  system.renderer.context_type=cuda system.geometry_convert_override.isosurface_threshold=0.0"
      ]
    },
    {
      "cell_type": "code",
      "execution_count": null,
      "metadata": {},
      "outputs": [],
      "source": [
        "#Stage 3 (DMTet Texturing)\n",
        "!python launch.py --config configs/geodream-dmtet-texture.yaml system.geometry.isosurface_resolution=256 \\ \n",
        "                  --train data.batch_size=1 system.renderer.context_type=cuda --gpu 0 \\\n",
        "                  system.geometry_convert_from=path/to/stage2/trial/dir/ckpts/last.ckpt \\ \n",
        "                  system.prompt_processor.prompt=\"an astronaut riding a horse\""
      ]
    }
  ],
  "metadata": {
    "accelerator": "GPU",
    "colab": {
      "gpuType": "T4",
      "provenance": []
    },
    "kernelspec": {
      "display_name": "Python 3",
      "name": "python3"
    },
    "language_info": {
      "name": "python"
    }
  },
  "nbformat": 4,
  "nbformat_minor": 0
}
